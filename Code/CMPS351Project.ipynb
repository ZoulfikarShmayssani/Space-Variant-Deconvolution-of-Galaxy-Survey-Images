{
  "nbformat": 4,
  "nbformat_minor": 0,
  "metadata": {
    "colab": {
      "name": "CMPS351Project.ipynb",
      "version": "0.3.2",
      "provenance": [],
      "collapsed_sections": []
    },
    "kernelspec": {
      "name": "python3",
      "display_name": "Python 3"
    },
    "accelerator": "GPU"
  },
  "cells": [
    {
      "cell_type": "code",
      "metadata": {
        "id": "tf1_vs4tX_pM",
        "colab_type": "code",
        "outputId": "af69e1c9-a091-45d4-907f-53467caeb2e4",
        "colab": {
          "base_uri": "https://localhost:8080/",
          "height": 34
        }
      },
      "source": [
        "import urllib.request\n",
        "import zipfile\n",
        "import os\n",
        "import shutil\n",
        "\n",
        "zipFileName = \"euclid_psfs.tar.gz\"\n",
        "urllib.request.urlretrieve(\"http://www.cosmostat.org/wp-content/uploads/2017/04/euclid_psfs.tar.gz\", zipFileName)\n",
        "zipFileName = \"galaxy_images.tar.gz\"\n",
        "urllib.request.urlretrieve(\"http://www.cosmostat.org/wp-content/uploads/2017/05/galaxy_images.tar.gz\", zipFileName)"
      ],
      "execution_count": 0,
      "outputs": [
        {
          "output_type": "execute_result",
          "data": {
            "text/plain": [
              "('galaxy_images.tar.gz', <http.client.HTTPMessage at 0x7f28dc8c6898>)"
            ]
          },
          "metadata": {
            "tags": []
          },
          "execution_count": 1
        }
      ]
    },
    {
      "cell_type": "code",
      "metadata": {
        "id": "3eZpqVa5YksZ",
        "colab_type": "code",
        "outputId": "461490b9-e4ab-4f02-c70f-17e8b713e045",
        "colab": {
          "base_uri": "https://localhost:8080/",
          "height": 445
        }
      },
      "source": [
        "!tar -xvf euclid_psfs.tar.gz\n",
        "!tar -xvf galaxy_images.tar.gz\n",
        "!pip install modopt"
      ],
      "execution_count": 0,
      "outputs": [
        {
          "output_type": "stream",
          "text": [
            "euclid_psf_pos.fits\n",
            "euclid_psf_pos.npy\n",
            "euclid_psfs.fits\n",
            "euclid_psfs.npy\n",
            "./._readme.txt\n",
            "readme.txt\n",
            "galaxy_cube_10000.fits\n",
            "galaxy_cube_10000.npy\n",
            "./._readme.txt\n",
            "readme.txt\n",
            "Collecting modopt\n",
            "  Downloading https://files.pythonhosted.org/packages/ea/fc/c22b4a5db103640130c6e7531a74a0b565be8db52c26bee7484f609e30cc/modopt-1.3.1.tar.gz\n",
            "Requirement already satisfied: numpy>=1.14.1 in /usr/local/lib/python3.6/dist-packages (from modopt) (1.16.3)\n",
            "Requirement already satisfied: future>=0.16.0 in /usr/local/lib/python3.6/dist-packages (from modopt) (0.16.0)\n",
            "Requirement already satisfied: scipy>=1.0.0 in /usr/local/lib/python3.6/dist-packages (from modopt) (1.2.1)\n",
            "Requirement already satisfied: progressbar2>=3.34.3 in /usr/local/lib/python3.6/dist-packages (from modopt) (3.38.0)\n",
            "Requirement already satisfied: six in /usr/local/lib/python3.6/dist-packages (from progressbar2>=3.34.3->modopt) (1.12.0)\n",
            "Requirement already satisfied: python-utils>=2.3.0 in /usr/local/lib/python3.6/dist-packages (from progressbar2>=3.34.3->modopt) (2.3.0)\n",
            "Building wheels for collected packages: modopt\n",
            "  Building wheel for modopt (setup.py) ... \u001b[?25l\u001b[?25hdone\n",
            "  Stored in directory: /root/.cache/pip/wheels/65/32/cc/c7aad1d939b0dc6e187caa0ce44349527c103d39f2120126ce\n",
            "Successfully built modopt\n",
            "Installing collected packages: modopt\n",
            "Successfully installed modopt-1.3.1\n"
          ],
          "name": "stdout"
        }
      ]
    },
    {
      "cell_type": "code",
      "metadata": {
        "id": "XUQIQmjwLm-K",
        "colab_type": "code",
        "colab": {}
      },
      "source": [
        "import numpy as np\n",
        "from modopt.math.convolve import convolve\n",
        "\n",
        "np.random.seed(142)\n",
        "\n",
        "imageCount = 500\n",
        "maxPSFs = 1\n",
        "\n",
        "X = np.load(\"galaxy_cube_10000.npy\")\n",
        "PSFs = np.load(\"euclid_psfs.npy\")\n",
        "images = np.zeros((imageCount, X.shape[1], X.shape[2]))\n",
        "imagesPSFs = np.zeros((imageCount, maxPSFs, X.shape[1], X.shape[2]))\n",
        "imagesIndeces = []\n",
        "i = 0\n",
        "\n",
        "def normalize(image):\n",
        "  return (image - np.min(image)) / (np.max(image) - np.min(image))\n",
        "\n",
        "def add_gaussian_noise(image):\n",
        "  SNR = 2e-2\n",
        "  noise = np.random.normal(scale=SNR, size=image.shape)\n",
        "  noisy_img = image + noise\n",
        "  return noisy_img\n",
        "\n",
        "while(True):\n",
        "  PSFCount = np.random.randint(1, maxPSFs + 1)\n",
        "  PSFIndeces = []\n",
        "  imageIndex = np.random.randint(0, len(X))\n",
        "  \n",
        "  if(imageIndex in imagesIndeces):\n",
        "    continue\n",
        "  \n",
        "  imagesIndeces.append(imageIndex)\n",
        "  image = normalize(X[imageIndex])\n",
        "  \n",
        "  j = 0\n",
        "  \n",
        "  while(True):\n",
        "    PSFIndex = np.random.randint(0, len(PSFs))\n",
        "    \n",
        "    if(PSFIndex in PSFIndeces):\n",
        "      continue\n",
        "    \n",
        "    PSF = PSFs[PSFIndex]\n",
        "    PSFIndeces.append(PSFIndex)\n",
        "    image = convolve(image, PSF)\n",
        "    imagesPSFs[i][j] = PSF\n",
        "    j += 1\n",
        "    \n",
        "    if(j == PSFCount):\n",
        "      break\n",
        "  \n",
        "  \n",
        "  images[i] = add_gaussian_noise(image)\n",
        "  i += 1\n",
        "  \n",
        "  if(i == imageCount):\n",
        "    break\n",
        "imagesPSFs = np.squeeze(imagesPSFs)\n",
        "np.save(\"images.npy\", images)\n",
        "np.save(\"imagesPSFs.npy\", imagesPSFs)"
      ],
      "execution_count": 0,
      "outputs": []
    },
    {
      "cell_type": "code",
      "metadata": {
        "id": "YrT-Frs8idEg",
        "colab_type": "code",
        "outputId": "8816a3a9-e417-40f4-ade0-5812ff7f8dee",
        "colab": {
          "base_uri": "https://localhost:8080/",
          "height": 4179
        }
      },
      "source": [
        "import numpy as np\n",
        "import matplotlib.pyplot as plt\n",
        "from modopt.opt.cost import costObj\n",
        "from modopt.math.convolve import convolve\n",
        "from modopt.math.stats import sigma_mad\n",
        "from modopt.opt.algorithms import Condat\n",
        "from modopt.opt.proximity import Positivity, LowRankMatrix\n",
        "from modopt.opt.linear import Identity\n",
        "from modopt.math.matrix import PowerMethod\n",
        "from modopt.math.convolve import convolve\n",
        "from modopt.opt.gradient import GradParent\n",
        "from modopt.base.np_adjust import rotate\n",
        "\n",
        "def psf_convolve(data, psf):\n",
        "  \"\"\"Convolve data with PSF\n",
        "  This method convolves an image with a PSF\n",
        "\n",
        "  Parameters\n",
        "  ----------\n",
        "  data : np.ndarray\n",
        "    Input data array, normally an array of 2D images\n",
        "  psf : np.ndarray\n",
        "    Input PSF array, normally either a single 2D PSF or an array of 2DPSFs\n",
        "  Returns \n",
        "  -------\n",
        "  np.ndarray convolved data\n",
        "  \"\"\"     \n",
        "  return np.array([convolve(i, j) for i, j in zip(data, psf)])\n",
        "\n",
        "class GradKnownPSF(GradParent, PowerMethod):\n",
        "  \"\"\"Gradient class for PSF convolution\n",
        "  This class defines the operators for a fixed or object variant PSF\n",
        "\n",
        "  Parameters\n",
        "  ----------\n",
        "  data : np.ndarray\n",
        "    Input data array, an array of 2D observed images (e.g. with noise)\n",
        "  psf : np.ndarray\n",
        "    PSF, a single 2D PSF or an array of 2D PSFs\n",
        "\n",
        "  Notes\n",
        "  -----\n",
        "  The properties of `PowerMethod` are inherited in this class\n",
        "  \"\"\"\n",
        "\n",
        "  def __init__(self, data, psf):\n",
        "    self._grad_data_type = np.floating\n",
        "    self.obs_data = data\n",
        "    self.op = self._H_op_method\n",
        "    self.trans_op = self._Ht_op_method\n",
        "    self._psf = psf\n",
        "    self.get_grad = self._get_grad_method\n",
        "    self.cost = self._cost_method\n",
        "    self.costHistory = []\n",
        "    PowerMethod.__init__(self, self.trans_op_op, self.obs_data.shape)\n",
        "\n",
        "  def _H_op_method(self, x):\n",
        "    \"\"\"H matrix operation\n",
        "    This method calculates the action of the matrix H on the input data, in\n",
        "    this case the convolution of the the input data with the PSF\n",
        "\n",
        "    Parameters\n",
        "    ----------\n",
        "    x : np.ndarray\n",
        "      Input data array, an array of recovered 2D images\n",
        "\n",
        "    Returns\n",
        "    -------\n",
        "    np.ndarray result\n",
        "    \"\"\"\n",
        "    return psf_convolve(x, self._psf)\n",
        "\n",
        "  def _Ht_op_method(self, x):\n",
        "    \"\"\"Ht matrix operation\n",
        "\n",
        "    This method calculates the action of the transpose of the matrix H on\n",
        "    the input data, in this case the convolution of the the input data with\n",
        "    the rotated PSF\n",
        "\n",
        "    Parameters\n",
        "    ----------\n",
        "    x : np.ndarray\n",
        "      Input data array, an array of recovered 2D images\n",
        "\n",
        "    Returns\n",
        "    -------\n",
        "    np.ndarray result\n",
        "\n",
        "    \"\"\"\n",
        "\n",
        "    return psf_convolve(x, rotate(self._psf))\n",
        "\n",
        "  def _calc_grad(self, x):\n",
        "    return self.trans_op(self.op(x) - self.obs_data)\n",
        "\n",
        "  def _get_grad_method(self, x):\n",
        "    \"\"\"Get the gradient at the given iteration\n",
        "    This method calculates the gradient value from the input data\n",
        "\n",
        "    Parameters\n",
        "    ----------\n",
        "    x : np.ndarray\n",
        "      Input data array, an array of recovered 2D images\n",
        "\n",
        "    \"\"\"\n",
        "\n",
        "    self.grad = self._calc_grad(x)\n",
        "\n",
        "  def _cost_method(self, *args, **kwargs):\n",
        "    \"\"\"Calculate gradient component of the cost\n",
        "    This method returns the L2 norm error of the difference between the\n",
        "    original data and the data obtained after optimisation\n",
        "\n",
        "    Returns\n",
        "    -------\n",
        "    float gradient cost component\n",
        "\n",
        "    \"\"\"\n",
        "    cost = 0.5 * np.linalg.norm(self.obs_data - self.op(args[0])) ** 2\n",
        "    self.costHistory.append(cost)\n",
        "    return cost\n",
        "\n",
        "class customLowRankMatrix(LowRankMatrix):\n",
        "  def __init__(self, lmda, thresh_type, operator):\n",
        "    self.costHistory = []\n",
        "    LowRankMatrix.__init__(self, lmda, thresh_type=thresh_type, operator=operator)\n",
        "  \n",
        "  def _cost_method(self, *args, **kwargs):\n",
        "    kwargs['verbose'] = False\n",
        "    cost = LowRankMatrix._cost_method(self, *args, **kwargs)\n",
        "    self.costHistory.append(cost)\n",
        "    return cost\n",
        "\n",
        "Y = images\n",
        "psfs = imagesPSFs\n",
        "#Y = np.array([add_gaussian_noise(convolve(normalize(Y[i]), psfs[i])) for i in range(len(Y))])\n",
        "#Y = np.load(\"example_image_stack.npy\")\n",
        "#psfs = np.load(\"example_psfs.npy\")\n",
        "alpha = 1\n",
        "sigma=sigma_mad(Y)\n",
        "grad = GradKnownPSF(Y, psfs)\n",
        "spec_rad = grad.spec_rad\n",
        "lmda = alpha * sigma * np.sqrt(np.max([Y.shape[0] + 1, Y.shape[1] * Y.shape[2]])) * spec_rad\n",
        "prox = Positivity()\n",
        "lowRank = customLowRankMatrix(lmda, thresh_type=\"hard\", operator=grad.trans_op)\n",
        "cost = costObj([grad, prox, lowRank])\n",
        "condat = Condat(Y, np.ones(Y.shape), grad, prox, lowRank, linear=Identity(), cost=cost, sigma=0.5, tau=0.5, rho=0.8)\n",
        "np.save(\"text.npy\", condat.x_final)\n",
        "\n",
        "plt.semilogy(lowRank.costHistory, color=\"blue\", label=\"Nuclear Norm\")\n",
        "plt.semilogy(grad.costHistory, color=\"red\", label=\"Residual\")\n",
        "plt.semilogy(np.array(grad.costHistory) + np.array(lowRank.costHistory), color=\"Green\", label=\"Total Cost\")\n",
        "plt.xscale('log')\n",
        "plt.legend(loc='upper right')\n",
        "plt.savefig(\"Plot.png\")\n",
        "plt.show()"
      ],
      "execution_count": 0,
      "outputs": [
        {
          "output_type": "stream",
          "text": [
            " - ITERATION: 1\n",
            " - Min (X): -0.01926926165869529\n"
          ],
          "name": "stdout"
        },
        {
          "output_type": "stream",
          "text": [
            "\r                                                                               \r\rN/A% (0 of 150) |                        | Elapsed Time: 0:00:00 ETA:  --:--:--"
          ],
          "name": "stderr"
        },
        {
          "output_type": "stream",
          "text": [
            " - COST: 806.9389088889516\n",
            "\n"
          ],
          "name": "stdout"
        },
        {
          "output_type": "stream",
          "text": [
            "\r                                                                               \r\rN/A% (0 of 150) |                        | Elapsed Time: 0:00:01 ETA:  --:--:--"
          ],
          "name": "stderr"
        },
        {
          "output_type": "stream",
          "text": [
            " - ITERATION: 2\n"
          ],
          "name": "stdout"
        },
        {
          "output_type": "stream",
          "text": [
            "\r                                                                               \r\rN/A% (0 of 150) |                        | Elapsed Time: 0:00:01 ETA:  --:--:--"
          ],
          "name": "stderr"
        },
        {
          "output_type": "stream",
          "text": [
            " - Min (X): -0.003853852331739057\n"
          ],
          "name": "stdout"
        },
        {
          "output_type": "stream",
          "text": [
            "\r                                                                               \r\rN/A% (0 of 150) |                        | Elapsed Time: 0:00:02 ETA:  --:--:--"
          ],
          "name": "stderr"
        },
        {
          "output_type": "stream",
          "text": [
            " - COST: 829.8125352164113\n"
          ],
          "name": "stdout"
        },
        {
          "output_type": "stream",
          "text": [
            "\r                                                                               \r\r  0% (1 of 150) |                        | Elapsed Time: 0:00:03 ETA:   0:05:36"
          ],
          "name": "stderr"
        },
        {
          "output_type": "stream",
          "text": [
            "\n",
            " - ITERATION: 3\n"
          ],
          "name": "stdout"
        },
        {
          "output_type": "stream",
          "text": [
            "\r                                                                               \r\r  0% (1 of 150) |                        | Elapsed Time: 0:00:03 ETA:   0:05:35"
          ],
          "name": "stderr"
        },
        {
          "output_type": "stream",
          "text": [
            " - Min (X): -0.0007707704663478112\n"
          ],
          "name": "stdout"
        },
        {
          "output_type": "stream",
          "text": [
            "\r                                                                               \r\r  0% (1 of 150) |                        | Elapsed Time: 0:00:04 ETA:   0:05:35"
          ],
          "name": "stderr"
        },
        {
          "output_type": "stream",
          "text": [
            " - COST: 701.4741602810011\n"
          ],
          "name": "stdout"
        },
        {
          "output_type": "stream",
          "text": [
            "\r                                                                               \r\r  1% (2 of 150) |                        | Elapsed Time: 0:00:05 ETA:   0:05:25"
          ],
          "name": "stderr"
        },
        {
          "output_type": "stream",
          "text": [
            "\n",
            " - ITERATION: 4\n"
          ],
          "name": "stdout"
        },
        {
          "output_type": "stream",
          "text": [
            "\r                                                                               \r\r  1% (2 of 150) |                        | Elapsed Time: 0:00:06 ETA:   0:05:25"
          ],
          "name": "stderr"
        },
        {
          "output_type": "stream",
          "text": [
            " - Min (X): -0.0001541540932695622\n"
          ],
          "name": "stdout"
        },
        {
          "output_type": "stream",
          "text": [
            "\r                                                                               \r\r  1% (2 of 150) |                        | Elapsed Time: 0:00:06 ETA:   0:05:27"
          ],
          "name": "stderr"
        },
        {
          "output_type": "stream",
          "text": [
            " - COST: 598.2437894490236\n"
          ],
          "name": "stdout"
        },
        {
          "output_type": "stream",
          "text": [
            "\r                                                                               \r\r  2% (3 of 150) |                        | Elapsed Time: 0:00:08 ETA:   0:05:22"
          ],
          "name": "stderr"
        },
        {
          "output_type": "stream",
          "text": [
            "\n",
            " - CONVERGENCE TEST - \n",
            " - CHANGE IN COST: 0.2593127950916938\n",
            "\n",
            " - ITERATION: 5\n"
          ],
          "name": "stdout"
        },
        {
          "output_type": "stream",
          "text": [
            "\r                                                                               \r\r  2% (3 of 150) |                        | Elapsed Time: 0:00:08 ETA:   0:05:24"
          ],
          "name": "stderr"
        },
        {
          "output_type": "stream",
          "text": [
            " - Min (X): -3.0830818653912436e-05\n"
          ],
          "name": "stdout"
        },
        {
          "output_type": "stream",
          "text": [
            "\r                                                                               \r\r  2% (3 of 150) |                        | Elapsed Time: 0:00:08 ETA:   0:05:25"
          ],
          "name": "stderr"
        },
        {
          "output_type": "stream",
          "text": [
            " - COST: 542.5120888163323\n"
          ],
          "name": "stdout"
        },
        {
          "output_type": "stream",
          "text": [
            "\r                                                                               \r\r  2% (4 of 150) |                        | Elapsed Time: 0:00:10 ETA:   0:05:25"
          ],
          "name": "stderr"
        },
        {
          "output_type": "stream",
          "text": [
            "\n",
            " - ITERATION: 6\n"
          ],
          "name": "stdout"
        },
        {
          "output_type": "stream",
          "text": [
            "\r                                                                               \r\r  2% (4 of 150) |                        | Elapsed Time: 0:00:10 ETA:   0:05:25"
          ],
          "name": "stderr"
        },
        {
          "output_type": "stream",
          "text": [
            " - Min (X): -6.1661637307824855e-06\n"
          ],
          "name": "stdout"
        },
        {
          "output_type": "stream",
          "text": [
            "\r                                                                               \r\r  2% (4 of 150) |                        | Elapsed Time: 0:00:11 ETA:   0:05:23"
          ],
          "name": "stderr"
        },
        {
          "output_type": "stream",
          "text": [
            " - COST: 510.9519608612239\n"
          ],
          "name": "stdout"
        },
        {
          "output_type": "stream",
          "text": [
            "\r                                                                               \r\r  3% (5 of 150) |                        | Elapsed Time: 0:00:12 ETA:   0:05:16"
          ],
          "name": "stderr"
        },
        {
          "output_type": "stream",
          "text": [
            "\n",
            " - ITERATION: 7\n"
          ],
          "name": "stdout"
        },
        {
          "output_type": "stream",
          "text": [
            "\r                                                                               \r\r  3% (5 of 150) |                        | Elapsed Time: 0:00:12 ETA:   0:05:16"
          ],
          "name": "stderr"
        },
        {
          "output_type": "stream",
          "text": [
            " - Min (X): -1.2332327461564968e-06\n"
          ],
          "name": "stdout"
        },
        {
          "output_type": "stream",
          "text": [
            "\r                                                                               \r\r  3% (5 of 150) |                        | Elapsed Time: 0:00:13 ETA:   0:05:16"
          ],
          "name": "stderr"
        },
        {
          "output_type": "stream",
          "text": [
            " - COST: 488.366882482507\n"
          ],
          "name": "stdout"
        },
        {
          "output_type": "stream",
          "text": [
            "\r                                                                               \r\r  4% (6 of 150) |                        | Elapsed Time: 0:00:14 ETA:   0:05:18"
          ],
          "name": "stderr"
        },
        {
          "output_type": "stream",
          "text": [
            "\n",
            " - ITERATION: 8\n"
          ],
          "name": "stdout"
        },
        {
          "output_type": "stream",
          "text": [
            "\r                                                                               \r\r  4% (6 of 150) |                        | Elapsed Time: 0:00:15 ETA:   0:05:18"
          ],
          "name": "stderr"
        },
        {
          "output_type": "stream",
          "text": [
            " - Min (X): -2.466465492312993e-07\n"
          ],
          "name": "stdout"
        },
        {
          "output_type": "stream",
          "text": [
            "\r                                                                               \r\r  4% (6 of 150) |                        | Elapsed Time: 0:00:15 ETA:   0:05:17"
          ],
          "name": "stderr"
        },
        {
          "output_type": "stream",
          "text": [
            " - COST: 468.7655088932088\n"
          ],
          "name": "stdout"
        },
        {
          "output_type": "stream",
          "text": [
            "\r                                                                               \r\r  4% (7 of 150) |#                       | Elapsed Time: 0:00:16 ETA:   0:05:11"
          ],
          "name": "stderr"
        },
        {
          "output_type": "stream",
          "text": [
            "\n",
            " - CONVERGENCE TEST - \n",
            " - CHANGE IN COST: 0.10064611663949642\n",
            "\n",
            " - ITERATION: 9\n"
          ],
          "name": "stdout"
        },
        {
          "output_type": "stream",
          "text": [
            "\r                                                                               \r\r  4% (7 of 150) |#                       | Elapsed Time: 0:00:17 ETA:   0:05:10"
          ],
          "name": "stderr"
        },
        {
          "output_type": "stream",
          "text": [
            " - Min (X): -4.932930984625985e-08\n"
          ],
          "name": "stdout"
        },
        {
          "output_type": "stream",
          "text": [
            "\r                                                                               \r\r  4% (7 of 150) |#                       | Elapsed Time: 0:00:17 ETA:   0:05:10"
          ],
          "name": "stderr"
        },
        {
          "output_type": "stream",
          "text": [
            " - COST: 451.3997360136251\n"
          ],
          "name": "stdout"
        },
        {
          "output_type": "stream",
          "text": [
            "\r                                                                               \r\r  5% (8 of 150) |#                       | Elapsed Time: 0:00:19 ETA:   0:05:09"
          ],
          "name": "stderr"
        },
        {
          "output_type": "stream",
          "text": [
            "\n",
            " - ITERATION: 10\n"
          ],
          "name": "stdout"
        },
        {
          "output_type": "stream",
          "text": [
            "\r                                                                               \r\r  5% (8 of 150) |#                       | Elapsed Time: 0:00:19 ETA:   0:05:11"
          ],
          "name": "stderr"
        },
        {
          "output_type": "stream",
          "text": [
            " - Min (X): -9.865861969251967e-09\n"
          ],
          "name": "stdout"
        },
        {
          "output_type": "stream",
          "text": [
            "\r                                                                               \r\r  5% (8 of 150) |#                       | Elapsed Time: 0:00:19 ETA:   0:05:12"
          ],
          "name": "stderr"
        },
        {
          "output_type": "stream",
          "text": [
            " - COST: 436.94992992800707\n"
          ],
          "name": "stdout"
        },
        {
          "output_type": "stream",
          "text": [
            "\r                                                                               \r\r  6% (9 of 150) |#                       | Elapsed Time: 0:00:21 ETA:   0:05:07"
          ],
          "name": "stderr"
        },
        {
          "output_type": "stream",
          "text": [
            "\n",
            " - ITERATION: 11\n"
          ],
          "name": "stdout"
        },
        {
          "output_type": "stream",
          "text": [
            "\r                                                                               \r\r  6% (9 of 150) |#                       | Elapsed Time: 0:00:21 ETA:   0:05:07"
          ],
          "name": "stderr"
        },
        {
          "output_type": "stream",
          "text": [
            " - Min (X): -1.9731723938503932e-09\n"
          ],
          "name": "stdout"
        },
        {
          "output_type": "stream",
          "text": [
            "\r                                                                               \r\r  6% (9 of 150) |#                       | Elapsed Time: 0:00:22 ETA:   0:05:06"
          ],
          "name": "stderr"
        },
        {
          "output_type": "stream",
          "text": [
            " - COST: 426.9791860953668\n"
          ],
          "name": "stdout"
        },
        {
          "output_type": "stream",
          "text": [
            "\r                                                                               \r\r  6% (10 of 150) |#                      | Elapsed Time: 0:00:23 ETA:   0:05:02"
          ],
          "name": "stderr"
        },
        {
          "output_type": "stream",
          "text": [
            "\n",
            " - ITERATION: 12\n"
          ],
          "name": "stdout"
        },
        {
          "output_type": "stream",
          "text": [
            "\r                                                                               \r\r  6% (10 of 150) |#                      | Elapsed Time: 0:00:23 ETA:   0:05:03"
          ],
          "name": "stderr"
        },
        {
          "output_type": "stream",
          "text": [
            " - Min (X): -3.9463447877007855e-10\n"
          ],
          "name": "stdout"
        },
        {
          "output_type": "stream",
          "text": [
            "\r                                                                               \r\r  6% (10 of 150) |#                      | Elapsed Time: 0:00:24 ETA:   0:05:07"
          ],
          "name": "stderr"
        },
        {
          "output_type": "stream",
          "text": [
            " - COST: 421.8814970089204\n"
          ],
          "name": "stdout"
        },
        {
          "output_type": "stream",
          "text": [
            "\r                                                                               \r\r  7% (11 of 150) |#                      | Elapsed Time: 0:00:25 ETA:   0:05:01"
          ],
          "name": "stderr"
        },
        {
          "output_type": "stream",
          "text": [
            "\n",
            " - CONVERGENCE TEST - \n",
            " - CHANGE IN COST: 0.04651998098549402\n",
            "\n",
            " - ITERATION: 13\n"
          ],
          "name": "stdout"
        },
        {
          "output_type": "stream",
          "text": [
            "\r                                                                               \r\r  7% (11 of 150) |#                      | Elapsed Time: 0:00:25 ETA:   0:05:00"
          ],
          "name": "stderr"
        },
        {
          "output_type": "stream",
          "text": [
            " - Min (X): -7.892689575401569e-11\n"
          ],
          "name": "stdout"
        },
        {
          "output_type": "stream",
          "text": [
            "\r                                                                               \r\r  7% (11 of 150) |#                      | Elapsed Time: 0:00:26 ETA:   0:04:58"
          ],
          "name": "stderr"
        },
        {
          "output_type": "stream",
          "text": [
            " - COST: 419.48403928253805\n"
          ],
          "name": "stdout"
        },
        {
          "output_type": "stream",
          "text": [
            "\r                                                                               \r\r  8% (12 of 150) |#                      | Elapsed Time: 0:00:27 ETA:   0:04:57"
          ],
          "name": "stderr"
        },
        {
          "output_type": "stream",
          "text": [
            "\n",
            " - ITERATION: 14\n"
          ],
          "name": "stdout"
        },
        {
          "output_type": "stream",
          "text": [
            "\r                                                                               \r\r  8% (12 of 150) |#                      | Elapsed Time: 0:00:28 ETA:   0:04:57"
          ],
          "name": "stderr"
        },
        {
          "output_type": "stream",
          "text": [
            " - Min (X): -1.5785379150803135e-11\n"
          ],
          "name": "stdout"
        },
        {
          "output_type": "stream",
          "text": [
            "\r                                                                               \r\r  8% (12 of 150) |#                      | Elapsed Time: 0:00:28 ETA:   0:04:55"
          ],
          "name": "stderr"
        },
        {
          "output_type": "stream",
          "text": [
            " - COST: 417.8017134840079\n"
          ],
          "name": "stdout"
        },
        {
          "output_type": "stream",
          "text": [
            "\r                                                                               \r\r  8% (13 of 150) |#                      | Elapsed Time: 0:00:29 ETA:   0:05:02"
          ],
          "name": "stderr"
        },
        {
          "output_type": "stream",
          "text": [
            "\n",
            " - ITERATION: 15\n"
          ],
          "name": "stdout"
        },
        {
          "output_type": "stream",
          "text": [
            "\r                                                                               \r\r  8% (13 of 150) |#                      | Elapsed Time: 0:00:30 ETA:   0:05:08"
          ],
          "name": "stderr"
        },
        {
          "output_type": "stream",
          "text": [
            " - Min (X): -3.1570758301606265e-12\n"
          ],
          "name": "stdout"
        },
        {
          "output_type": "stream",
          "text": [
            "\r                                                                               \r\r  8% (13 of 150) |#                      | Elapsed Time: 0:00:30 ETA:   0:05:17"
          ],
          "name": "stderr"
        },
        {
          "output_type": "stream",
          "text": [
            " - COST: 415.82538794659433\n"
          ],
          "name": "stdout"
        },
        {
          "output_type": "stream",
          "text": [
            "\r                                                                               \r\r  9% (14 of 150) |##                     | Elapsed Time: 0:00:32 ETA:   0:04:42"
          ],
          "name": "stderr"
        },
        {
          "output_type": "stream",
          "text": [
            "\n",
            " - ITERATION: 16\n"
          ],
          "name": "stdout"
        },
        {
          "output_type": "stream",
          "text": [
            "\r                                                                               \r\r  9% (14 of 150) |##                     | Elapsed Time: 0:00:32 ETA:   0:05:31"
          ],
          "name": "stderr"
        },
        {
          "output_type": "stream",
          "text": [
            " - Min (X): -6.314151660321251e-13\n"
          ],
          "name": "stdout"
        },
        {
          "output_type": "stream",
          "text": [
            "\r                                                                               \r\r  9% (14 of 150) |##                     | Elapsed Time: 0:00:33 ETA:   0:05:33"
          ],
          "name": "stderr"
        },
        {
          "output_type": "stream",
          "text": [
            " - COST: 413.5939222595398\n"
          ],
          "name": "stdout"
        },
        {
          "output_type": "stream",
          "text": [
            "\r                                                                               \r\r 10% (15 of 150) |##                     | Elapsed Time: 0:00:34 ETA:   0:04:42"
          ],
          "name": "stderr"
        },
        {
          "output_type": "stream",
          "text": [
            "\n",
            " - CONVERGENCE TEST - \n",
            " - CHANGE IN COST: 0.009484277088336478\n",
            "\n",
            " - ITERATION: 17\n"
          ],
          "name": "stdout"
        },
        {
          "output_type": "stream",
          "text": [
            "\r                                                                               \r\r 10% (15 of 150) |##                     | Elapsed Time: 0:00:35 ETA:   0:05:31"
          ],
          "name": "stderr"
        },
        {
          "output_type": "stream",
          "text": [
            " - Min (X): -1.26283033206425e-13\n"
          ],
          "name": "stdout"
        },
        {
          "output_type": "stream",
          "text": [
            "\r                                                                               \r\r 10% (15 of 150) |##                     | Elapsed Time: 0:00:35 ETA:   0:05:29"
          ],
          "name": "stderr"
        },
        {
          "output_type": "stream",
          "text": [
            " - COST: 411.30105031520117\n"
          ],
          "name": "stdout"
        },
        {
          "output_type": "stream",
          "text": [
            "\r                                                                               \r\r 10% (16 of 150) |##                     | Elapsed Time: 0:00:37 ETA:   0:04:36"
          ],
          "name": "stderr"
        },
        {
          "output_type": "stream",
          "text": [
            "\n",
            " - ITERATION: 18\n"
          ],
          "name": "stdout"
        },
        {
          "output_type": "stream",
          "text": [
            "\r                                                                               \r\r 10% (16 of 150) |##                     | Elapsed Time: 0:00:37 ETA:   0:05:25"
          ],
          "name": "stderr"
        },
        {
          "output_type": "stream",
          "text": [
            " - Min (X): -2.5256606641284994e-14\n"
          ],
          "name": "stdout"
        },
        {
          "output_type": "stream",
          "text": [
            "\r                                                                               \r\r 10% (16 of 150) |##                     | Elapsed Time: 0:00:38 ETA:   0:05:26"
          ],
          "name": "stderr"
        },
        {
          "output_type": "stream",
          "text": [
            " - COST: 409.21549870341994\n"
          ],
          "name": "stdout"
        },
        {
          "output_type": "stream",
          "text": [
            "\r                                                                               \r\r 11% (17 of 150) |##                     | Elapsed Time: 0:00:39 ETA:   0:04:35"
          ],
          "name": "stderr"
        },
        {
          "output_type": "stream",
          "text": [
            "\n",
            " - ITERATION: 19\n"
          ],
          "name": "stdout"
        },
        {
          "output_type": "stream",
          "text": [
            "\r                                                                               \r\r 11% (17 of 150) |##                     | Elapsed Time: 0:00:40 ETA:   0:05:18"
          ],
          "name": "stderr"
        },
        {
          "output_type": "stream",
          "text": [
            " - Min (X): -5.0513213282569976e-15\n"
          ],
          "name": "stdout"
        },
        {
          "output_type": "stream",
          "text": [
            "\r                                                                               \r\r 11% (17 of 150) |##                     | Elapsed Time: 0:00:40 ETA:   0:05:11"
          ],
          "name": "stderr"
        },
        {
          "output_type": "stream",
          "text": [
            " - COST: 407.60618412531954\n"
          ],
          "name": "stdout"
        },
        {
          "output_type": "stream",
          "text": [
            "\r                                                                               \r\r 12% (18 of 150) |##                     | Elapsed Time: 0:00:41 ETA:   0:04:44"
          ],
          "name": "stderr"
        },
        {
          "output_type": "stream",
          "text": [
            "\n",
            " - ITERATION: 20\n"
          ],
          "name": "stdout"
        },
        {
          "output_type": "stream",
          "text": [
            "\r                                                                               \r\r 12% (18 of 150) |##                     | Elapsed Time: 0:00:42 ETA:   0:04:43"
          ],
          "name": "stderr"
        },
        {
          "output_type": "stream",
          "text": [
            " - Min (X): -1.0102642656513993e-15\n"
          ],
          "name": "stdout"
        },
        {
          "output_type": "stream",
          "text": [
            "\r                                                                               \r\r 12% (18 of 150) |##                     | Elapsed Time: 0:00:42 ETA:   0:04:43"
          ],
          "name": "stderr"
        },
        {
          "output_type": "stream",
          "text": [
            " - COST: 406.55278639115943\n"
          ],
          "name": "stdout"
        },
        {
          "output_type": "stream",
          "text": [
            "\r                                                                               \r\r 12% (19 of 150) |##                     | Elapsed Time: 0:00:44 ETA:   0:04:41"
          ],
          "name": "stderr"
        },
        {
          "output_type": "stream",
          "text": [
            "\n",
            " - CONVERGENCE TEST - \n",
            " - CHANGE IN COST: 0.007808767983123821\n",
            "\n",
            " - ITERATION: 21\n"
          ],
          "name": "stdout"
        },
        {
          "output_type": "stream",
          "text": [
            "\r                                                                               \r\r 12% (19 of 150) |##                     | Elapsed Time: 0:00:44 ETA:   0:04:43"
          ],
          "name": "stderr"
        },
        {
          "output_type": "stream",
          "text": [
            " - Min (X): -2.0205285313027982e-16\n"
          ],
          "name": "stdout"
        },
        {
          "output_type": "stream",
          "text": [
            "\r                                                                               \r\r 12% (19 of 150) |##                     | Elapsed Time: 0:00:44 ETA:   0:04:41"
          ],
          "name": "stderr"
        },
        {
          "output_type": "stream",
          "text": [
            " - COST: 405.95086871977264\n"
          ],
          "name": "stdout"
        },
        {
          "output_type": "stream",
          "text": [
            "\r                                                                               \r\r 13% (20 of 150) |###                    | Elapsed Time: 0:00:46 ETA:   0:04:39"
          ],
          "name": "stderr"
        },
        {
          "output_type": "stream",
          "text": [
            "\n",
            " - ITERATION: 22\n"
          ],
          "name": "stdout"
        },
        {
          "output_type": "stream",
          "text": [
            "\r                                                                               \r\r 13% (20 of 150) |###                    | Elapsed Time: 0:00:46 ETA:   0:04:39"
          ],
          "name": "stderr"
        },
        {
          "output_type": "stream",
          "text": [
            " - Min (X): -4.0410570626055954e-17\n"
          ],
          "name": "stdout"
        },
        {
          "output_type": "stream",
          "text": [
            "\r                                                                               \r\r 13% (20 of 150) |###                    | Elapsed Time: 0:00:46 ETA:   0:04:39"
          ],
          "name": "stderr"
        },
        {
          "output_type": "stream",
          "text": [
            " - COST: 405.3875355591812\n"
          ],
          "name": "stdout"
        },
        {
          "output_type": "stream",
          "text": [
            "\r                                                                               \r\r 14% (21 of 150) |###                    | Elapsed Time: 0:00:48 ETA:   0:04:36"
          ],
          "name": "stderr"
        },
        {
          "output_type": "stream",
          "text": [
            "\n",
            " - ITERATION: 23\n"
          ],
          "name": "stdout"
        },
        {
          "output_type": "stream",
          "text": [
            "\r                                                                               \r\r 14% (21 of 150) |###                    | Elapsed Time: 0:00:48 ETA:   0:04:37"
          ],
          "name": "stderr"
        },
        {
          "output_type": "stream",
          "text": [
            " - Min (X): -8.08211412521119e-18\n"
          ],
          "name": "stdout"
        },
        {
          "output_type": "stream",
          "text": [
            "\r                                                                               \r\r 14% (21 of 150) |###                    | Elapsed Time: 0:00:49 ETA:   0:04:37"
          ],
          "name": "stderr"
        },
        {
          "output_type": "stream",
          "text": [
            " - COST: 404.70465976409264\n"
          ],
          "name": "stdout"
        },
        {
          "output_type": "stream",
          "text": [
            "\r                                                                               \r\r 14% (22 of 150) |###                    | Elapsed Time: 0:00:50 ETA:   0:04:37"
          ],
          "name": "stderr"
        },
        {
          "output_type": "stream",
          "text": [
            "\n",
            " - ITERATION: 24\n"
          ],
          "name": "stdout"
        },
        {
          "output_type": "stream",
          "text": [
            "\r                                                                               \r\r 14% (22 of 150) |###                    | Elapsed Time: 0:00:50 ETA:   0:04:37"
          ],
          "name": "stderr"
        },
        {
          "output_type": "stream",
          "text": [
            " - Min (X): -1.6164228250422375e-18\n"
          ],
          "name": "stdout"
        },
        {
          "output_type": "stream",
          "text": [
            "\r                                                                               \r\r 14% (22 of 150) |###                    | Elapsed Time: 0:00:51 ETA:   0:04:36"
          ],
          "name": "stderr"
        },
        {
          "output_type": "stream",
          "text": [
            " - COST: 404.1445600997865\n"
          ],
          "name": "stdout"
        },
        {
          "output_type": "stream",
          "text": [
            "\r                                                                               \r\r 15% (23 of 150) |###                    | Elapsed Time: 0:00:52 ETA:   0:04:30"
          ],
          "name": "stderr"
        },
        {
          "output_type": "stream",
          "text": [
            "\n",
            " - CONVERGENCE TEST - \n",
            " - CHANGE IN COST: 0.003077439347093084\n",
            "\n",
            " - ITERATION: 25\n"
          ],
          "name": "stdout"
        },
        {
          "output_type": "stream",
          "text": [
            "\r                                                                               \r\r 15% (23 of 150) |###                    | Elapsed Time: 0:00:52 ETA:   0:04:29"
          ],
          "name": "stderr"
        },
        {
          "output_type": "stream",
          "text": [
            " - Min (X): -3.232845650084474e-19\n"
          ],
          "name": "stdout"
        },
        {
          "output_type": "stream",
          "text": [
            "\r                                                                               \r\r 15% (23 of 150) |###                    | Elapsed Time: 0:00:53 ETA:   0:04:28"
          ],
          "name": "stderr"
        },
        {
          "output_type": "stream",
          "text": [
            " - COST: 403.418746737939\n"
          ],
          "name": "stdout"
        },
        {
          "output_type": "stream",
          "text": [
            "\r                                                                               \r\r 16% (24 of 150) |###                    | Elapsed Time: 0:00:54 ETA:   0:04:29"
          ],
          "name": "stderr"
        },
        {
          "output_type": "stream",
          "text": [
            "\n",
            " - ITERATION: 26\n"
          ],
          "name": "stdout"
        },
        {
          "output_type": "stream",
          "text": [
            "\r                                                                               \r\r 16% (24 of 150) |###                    | Elapsed Time: 0:00:55 ETA:   0:04:28"
          ],
          "name": "stderr"
        },
        {
          "output_type": "stream",
          "text": [
            " - Min (X): -6.465691300168947e-20\n"
          ],
          "name": "stdout"
        },
        {
          "output_type": "stream",
          "text": [
            "\r                                                                               \r\r 16% (24 of 150) |###                    | Elapsed Time: 0:00:55 ETA:   0:04:33"
          ],
          "name": "stderr"
        },
        {
          "output_type": "stream",
          "text": [
            " - COST: 402.71500532776145\n"
          ],
          "name": "stdout"
        },
        {
          "output_type": "stream",
          "text": [
            "\r                                                                               \r\r 16% (25 of 150) |###                    | Elapsed Time: 0:00:56 ETA:   0:04:29"
          ],
          "name": "stderr"
        },
        {
          "output_type": "stream",
          "text": [
            "\n",
            " - ITERATION: 27\n"
          ],
          "name": "stdout"
        },
        {
          "output_type": "stream",
          "text": [
            "\r                                                                               \r\r 16% (25 of 150) |###                    | Elapsed Time: 0:00:57 ETA:   0:04:30"
          ],
          "name": "stderr"
        },
        {
          "output_type": "stream",
          "text": [
            " - Min (X): -1.293138260033789e-20\n"
          ],
          "name": "stdout"
        },
        {
          "output_type": "stream",
          "text": [
            "\r                                                                               \r\r 16% (25 of 150) |###                    | Elapsed Time: 0:00:57 ETA:   0:04:26"
          ],
          "name": "stderr"
        },
        {
          "output_type": "stream",
          "text": [
            " - COST: 402.21725165309635\n"
          ],
          "name": "stdout"
        },
        {
          "output_type": "stream",
          "text": [
            "\r                                                                               \r\r 17% (26 of 150) |###                    | Elapsed Time: 0:00:59 ETA:   0:04:24"
          ],
          "name": "stderr"
        },
        {
          "output_type": "stream",
          "text": [
            "\n",
            " - ITERATION: 28\n"
          ],
          "name": "stdout"
        },
        {
          "output_type": "stream",
          "text": [
            "\r                                                                               \r\r 17% (26 of 150) |###                    | Elapsed Time: 0:00:59 ETA:   0:04:23"
          ],
          "name": "stderr"
        },
        {
          "output_type": "stream",
          "text": [
            " - Min (X): -2.5862765200675777e-21\n"
          ],
          "name": "stdout"
        },
        {
          "output_type": "stream",
          "text": [
            "\r                                                                               \r\r 17% (26 of 150) |###                    | Elapsed Time: 0:00:59 ETA:   0:04:23"
          ],
          "name": "stderr"
        },
        {
          "output_type": "stream",
          "text": [
            " - COST: 401.8172760666786\n"
          ],
          "name": "stdout"
        },
        {
          "output_type": "stream",
          "text": [
            "\r                                                                               \r\r 18% (27 of 150) |####                   | Elapsed Time: 0:01:01 ETA:   0:04:21"
          ],
          "name": "stderr"
        },
        {
          "output_type": "stream",
          "text": [
            "\n",
            " - CONVERGENCE TEST - \n",
            " - CHANGE IN COST: 0.0026108634312992994\n",
            "\n",
            " - ITERATION: 29\n"
          ],
          "name": "stdout"
        },
        {
          "output_type": "stream",
          "text": [
            "\r                                                                               \r\r 18% (27 of 150) |####                   | Elapsed Time: 0:01:01 ETA:   0:04:21"
          ],
          "name": "stderr"
        },
        {
          "output_type": "stream",
          "text": [
            " - Min (X): -5.172553040135155e-22\n"
          ],
          "name": "stdout"
        },
        {
          "output_type": "stream",
          "text": [
            "\r                                                                               \r\r 18% (27 of 150) |####                   | Elapsed Time: 0:01:01 ETA:   0:04:22"
          ],
          "name": "stderr"
        },
        {
          "output_type": "stream",
          "text": [
            " - COST: 401.41386712540657\n"
          ],
          "name": "stdout"
        },
        {
          "output_type": "stream",
          "text": [
            "\r                                                                               \r\r 18% (28 of 150) |####                   | Elapsed Time: 0:01:03 ETA:   0:04:39"
          ],
          "name": "stderr"
        },
        {
          "output_type": "stream",
          "text": [
            "\n",
            " - ITERATION: 30\n"
          ],
          "name": "stdout"
        },
        {
          "output_type": "stream",
          "text": [
            "\r                                                                               \r\r 18% (28 of 150) |####                   | Elapsed Time: 0:01:03 ETA:   0:04:45"
          ],
          "name": "stderr"
        },
        {
          "output_type": "stream",
          "text": [
            " - Min (X): -1.0345106080270307e-22\n"
          ],
          "name": "stdout"
        },
        {
          "output_type": "stream",
          "text": [
            "\r                                                                               \r\r 18% (28 of 150) |####                   | Elapsed Time: 0:01:04 ETA:   0:04:49"
          ],
          "name": "stderr"
        },
        {
          "output_type": "stream",
          "text": [
            " - COST: 400.95965669221175\n"
          ],
          "name": "stdout"
        },
        {
          "output_type": "stream",
          "text": [
            "\r                                                                               \r\r 19% (29 of 150) |####                   | Elapsed Time: 0:01:05 ETA:   0:04:06"
          ],
          "name": "stderr"
        },
        {
          "output_type": "stream",
          "text": [
            "\n",
            " - ITERATION: 31\n"
          ],
          "name": "stdout"
        },
        {
          "output_type": "stream",
          "text": [
            "\r                                                                               \r\r 19% (29 of 150) |####                   | Elapsed Time: 0:01:06 ETA:   0:04:50"
          ],
          "name": "stderr"
        },
        {
          "output_type": "stream",
          "text": [
            " - Min (X): -2.0690212160540608e-23\n"
          ],
          "name": "stdout"
        },
        {
          "output_type": "stream",
          "text": [
            "\r                                                                               \r\r 19% (29 of 150) |####                   | Elapsed Time: 0:01:06 ETA:   0:04:50"
          ],
          "name": "stderr"
        },
        {
          "output_type": "stream",
          "text": [
            " - COST: 400.6216218589327\n"
          ],
          "name": "stdout"
        },
        {
          "output_type": "stream",
          "text": [
            "\r                                                                               \r\r 20% (30 of 150) |####                   | Elapsed Time: 0:01:08 ETA:   0:04:00"
          ],
          "name": "stderr"
        },
        {
          "output_type": "stream",
          "text": [
            "\n",
            " - ITERATION: 32\n"
          ],
          "name": "stdout"
        },
        {
          "output_type": "stream",
          "text": [
            "\r                                                                               \r\r 20% (30 of 150) |####                   | Elapsed Time: 0:01:08 ETA:   0:04:42"
          ],
          "name": "stderr"
        },
        {
          "output_type": "stream",
          "text": [
            " - Min (X): -4.13804243210812e-24\n"
          ],
          "name": "stdout"
        },
        {
          "output_type": "stream",
          "text": [
            "\r                                                                               \r\r 20% (30 of 150) |####                   | Elapsed Time: 0:01:09 ETA:   0:04:43"
          ],
          "name": "stderr"
        },
        {
          "output_type": "stream",
          "text": [
            " - COST: 400.191688642208\n"
          ],
          "name": "stdout"
        },
        {
          "output_type": "stream",
          "text": [
            "\r                                                                               \r\r 20% (31 of 150) |####                   | Elapsed Time: 0:01:10 ETA:   0:04:00"
          ],
          "name": "stderr"
        },
        {
          "output_type": "stream",
          "text": [
            "\n",
            " - CONVERGENCE TEST - \n",
            " - CHANGE IN COST: 0.0019482859438253817\n",
            "\n",
            " - ITERATION: 33\n"
          ],
          "name": "stdout"
        },
        {
          "output_type": "stream",
          "text": [
            "\r                                                                               \r\r 20% (31 of 150) |####                   | Elapsed Time: 0:01:10 ETA:   0:04:42"
          ],
          "name": "stderr"
        },
        {
          "output_type": "stream",
          "text": [
            " - Min (X): -8.27608486421624e-25\n"
          ],
          "name": "stdout"
        },
        {
          "output_type": "stream",
          "text": [
            "\r                                                                               \r\r 20% (31 of 150) |####                   | Elapsed Time: 0:01:11 ETA:   0:04:41"
          ],
          "name": "stderr"
        },
        {
          "output_type": "stream",
          "text": [
            " - COST: 399.77044130429306\n"
          ],
          "name": "stdout"
        },
        {
          "output_type": "stream",
          "text": [
            "\r                                                                               \r\r 21% (32 of 150) |####                   | Elapsed Time: 0:01:12 ETA:   0:04:28"
          ],
          "name": "stderr"
        },
        {
          "output_type": "stream",
          "text": [
            "\n",
            " - ITERATION: 34\n"
          ],
          "name": "stdout"
        },
        {
          "output_type": "stream",
          "text": [
            "\r                                                                               \r\r 21% (32 of 150) |####                   | Elapsed Time: 0:01:13 ETA:   0:04:23"
          ],
          "name": "stderr"
        },
        {
          "output_type": "stream",
          "text": [
            " - Min (X): -1.6552169728432476e-25\n"
          ],
          "name": "stdout"
        },
        {
          "output_type": "stream",
          "text": [
            "\r                                                                               \r\r 21% (32 of 150) |####                   | Elapsed Time: 0:01:13 ETA:   0:04:17"
          ],
          "name": "stderr"
        },
        {
          "output_type": "stream",
          "text": [
            " - COST: 399.50677616468306\n"
          ],
          "name": "stdout"
        },
        {
          "output_type": "stream",
          "text": [
            "\r                                                                               \r\r 22% (33 of 150) |#####                  | Elapsed Time: 0:01:14 ETA:   0:04:08"
          ],
          "name": "stderr"
        },
        {
          "output_type": "stream",
          "text": [
            "\n",
            " - ITERATION: 35\n"
          ],
          "name": "stdout"
        },
        {
          "output_type": "stream",
          "text": [
            "\r                                                                               \r\r 22% (33 of 150) |#####                  | Elapsed Time: 0:01:15 ETA:   0:04:07"
          ],
          "name": "stderr"
        },
        {
          "output_type": "stream",
          "text": [
            " - Min (X): -3.310433945686495e-26\n"
          ],
          "name": "stdout"
        },
        {
          "output_type": "stream",
          "text": [
            "\r                                                                               \r\r 22% (33 of 150) |#####                  | Elapsed Time: 0:01:15 ETA:   0:04:07"
          ],
          "name": "stderr"
        },
        {
          "output_type": "stream",
          "text": [
            " - COST: 399.1505617767816\n"
          ],
          "name": "stdout"
        },
        {
          "output_type": "stream",
          "text": [
            "\r                                                                               \r\r 22% (34 of 150) |#####                  | Elapsed Time: 0:01:17 ETA:   0:04:06"
          ],
          "name": "stderr"
        },
        {
          "output_type": "stream",
          "text": [
            "\n",
            " - ITERATION: 36\n"
          ],
          "name": "stdout"
        },
        {
          "output_type": "stream",
          "text": [
            "\r                                                                               \r\r 22% (34 of 150) |#####                  | Elapsed Time: 0:01:17 ETA:   0:04:06"
          ],
          "name": "stderr"
        },
        {
          "output_type": "stream",
          "text": [
            " - Min (X): -6.620867891372988e-27\n"
          ],
          "name": "stdout"
        },
        {
          "output_type": "stream",
          "text": [
            "\r                                                                               \r\r 22% (34 of 150) |#####                  | Elapsed Time: 0:01:17 ETA:   0:04:07"
          ],
          "name": "stderr"
        },
        {
          "output_type": "stream",
          "text": [
            " - COST: 398.98036048865106\n"
          ],
          "name": "stdout"
        },
        {
          "output_type": "stream",
          "text": [
            "\r                                                                               \r\r 23% (35 of 150) |#####                  | Elapsed Time: 0:01:19 ETA:   0:04:03"
          ],
          "name": "stderr"
        },
        {
          "output_type": "stream",
          "text": [
            "\n",
            " - CONVERGENCE TEST - \n",
            " - CHANGE IN COST: 0.0014362245235277635\n",
            "\n",
            " - ITERATION: 37\n"
          ],
          "name": "stdout"
        },
        {
          "output_type": "stream",
          "text": [
            "\r                                                                               \r\r 23% (35 of 150) |#####                  | Elapsed Time: 0:01:19 ETA:   0:04:04"
          ],
          "name": "stderr"
        },
        {
          "output_type": "stream",
          "text": [
            " - Min (X): -1.3241735782745973e-27\n"
          ],
          "name": "stdout"
        },
        {
          "output_type": "stream",
          "text": [
            "\r                                                                               \r\r 23% (35 of 150) |#####                  | Elapsed Time: 0:01:20 ETA:   0:04:03"
          ],
          "name": "stderr"
        },
        {
          "output_type": "stream",
          "text": [
            " - COST: 398.7198137407155\n"
          ],
          "name": "stdout"
        },
        {
          "output_type": "stream",
          "text": [
            "\r                                                                               \r\r 24% (36 of 150) |#####                  | Elapsed Time: 0:01:21 ETA:   0:04:03"
          ],
          "name": "stderr"
        },
        {
          "output_type": "stream",
          "text": [
            "\n",
            " - ITERATION: 38\n"
          ],
          "name": "stdout"
        },
        {
          "output_type": "stream",
          "text": [
            "\r                                                                               \r\r 24% (36 of 150) |#####                  | Elapsed Time: 0:01:21 ETA:   0:04:03"
          ],
          "name": "stderr"
        },
        {
          "output_type": "stream",
          "text": [
            " - Min (X): -2.648347156549194e-28\n"
          ],
          "name": "stdout"
        },
        {
          "output_type": "stream",
          "text": [
            "\r                                                                               \r\r 24% (36 of 150) |#####                  | Elapsed Time: 0:01:22 ETA:   0:04:04"
          ],
          "name": "stderr"
        },
        {
          "output_type": "stream",
          "text": [
            " - COST: 398.43911131282096\n"
          ],
          "name": "stdout"
        },
        {
          "output_type": "stream",
          "text": [
            "\r                                                                               \r\r 24% (37 of 150) |#####                  | Elapsed Time: 0:01:23 ETA:   0:03:57"
          ],
          "name": "stderr"
        },
        {
          "output_type": "stream",
          "text": [
            "\n",
            " - ITERATION: 39\n"
          ],
          "name": "stdout"
        },
        {
          "output_type": "stream",
          "text": [
            "\r                                                                               \r\r 24% (37 of 150) |#####                  | Elapsed Time: 0:01:23 ETA:   0:03:57"
          ],
          "name": "stderr"
        },
        {
          "output_type": "stream",
          "text": [
            " - Min (X): -5.296694313098388e-29\n"
          ],
          "name": "stdout"
        },
        {
          "output_type": "stream",
          "text": [
            "\r                                                                               \r\r 24% (37 of 150) |#####                  | Elapsed Time: 0:01:24 ETA:   0:03:58"
          ],
          "name": "stderr"
        },
        {
          "output_type": "stream",
          "text": [
            " - COST: 398.2279074288945\n"
          ],
          "name": "stdout"
        },
        {
          "output_type": "stream",
          "text": [
            "\r                                                                               \r\r 25% (38 of 150) |#####                  | Elapsed Time: 0:01:25 ETA:   0:03:56"
          ],
          "name": "stderr"
        },
        {
          "output_type": "stream",
          "text": [
            "\n",
            " - ITERATION: 40\n"
          ],
          "name": "stdout"
        },
        {
          "output_type": "stream",
          "text": [
            "\r                                                                               \r\r 25% (38 of 150) |#####                  | Elapsed Time: 0:01:25 ETA:   0:03:56"
          ],
          "name": "stderr"
        },
        {
          "output_type": "stream",
          "text": [
            " - Min (X): -1.0593388626196773e-29\n"
          ],
          "name": "stdout"
        },
        {
          "output_type": "stream",
          "text": [
            "\r                                                                               \r\r 25% (38 of 150) |#####                  | Elapsed Time: 0:01:26 ETA:   0:04:00"
          ],
          "name": "stderr"
        },
        {
          "output_type": "stream",
          "text": [
            " - COST: 398.0851070964966\n"
          ],
          "name": "stdout"
        },
        {
          "output_type": "stream",
          "text": [
            "\r                                                                               \r\r 26% (39 of 150) |#####                  | Elapsed Time: 0:01:27 ETA:   0:03:58"
          ],
          "name": "stderr"
        },
        {
          "output_type": "stream",
          "text": [
            "\n",
            " - CONVERGENCE TEST - \n",
            " - CHANGE IN COST: 0.00106228394201188\n",
            "\n",
            " - ITERATION: 41\n"
          ],
          "name": "stdout"
        },
        {
          "output_type": "stream",
          "text": [
            "\r                                                                               \r\r 26% (39 of 150) |#####                  | Elapsed Time: 0:01:28 ETA:   0:03:58"
          ],
          "name": "stderr"
        },
        {
          "output_type": "stream",
          "text": [
            " - Min (X): -2.118677725239354e-30\n"
          ],
          "name": "stdout"
        },
        {
          "output_type": "stream",
          "text": [
            "\r                                                                               \r\r 26% (39 of 150) |#####                  | Elapsed Time: 0:01:28 ETA:   0:03:53"
          ],
          "name": "stderr"
        },
        {
          "output_type": "stream",
          "text": [
            " - COST: 397.87563236224025\n"
          ],
          "name": "stdout"
        },
        {
          "output_type": "stream",
          "text": [
            "\r                                                                               \r\r 26% (40 of 150) |######                 | Elapsed Time: 0:01:29 ETA:   0:03:56"
          ],
          "name": "stderr"
        },
        {
          "output_type": "stream",
          "text": [
            "\n",
            " - ITERATION: 42\n"
          ],
          "name": "stdout"
        },
        {
          "output_type": "stream",
          "text": [
            "\r                                                                               \r\r 26% (40 of 150) |######                 | Elapsed Time: 0:01:30 ETA:   0:03:56"
          ],
          "name": "stderr"
        },
        {
          "output_type": "stream",
          "text": [
            " - Min (X): -4.237355450478707e-31\n"
          ],
          "name": "stdout"
        },
        {
          "output_type": "stream",
          "text": [
            "\r                                                                               \r\r 26% (40 of 150) |######                 | Elapsed Time: 0:01:30 ETA:   0:03:57"
          ],
          "name": "stderr"
        },
        {
          "output_type": "stream",
          "text": [
            " - COST: 397.8227388788348\n"
          ],
          "name": "stdout"
        },
        {
          "output_type": "stream",
          "text": [
            "\r                                                                               \r\r 27% (41 of 150) |######                 | Elapsed Time: 0:01:31 ETA:   0:03:52"
          ],
          "name": "stderr"
        },
        {
          "output_type": "stream",
          "text": [
            "\n",
            " - ITERATION: 43\n"
          ],
          "name": "stdout"
        },
        {
          "output_type": "stream",
          "text": [
            "\r                                                                               \r\r 27% (41 of 150) |######                 | Elapsed Time: 0:01:32 ETA:   0:03:52"
          ],
          "name": "stderr"
        },
        {
          "output_type": "stream",
          "text": [
            " - Min (X): -8.474710900957412e-32\n"
          ],
          "name": "stdout"
        },
        {
          "output_type": "stream",
          "text": [
            "\r                                                                               \r\r 27% (41 of 150) |######                 | Elapsed Time: 0:01:32 ETA:   0:03:52"
          ],
          "name": "stderr"
        },
        {
          "output_type": "stream",
          "text": [
            " - COST: 397.68592174867695\n"
          ],
          "name": "stdout"
        },
        {
          "output_type": "stream",
          "text": [
            "\r                                                                               \r\r 28% (42 of 150) |######                 | Elapsed Time: 0:01:34 ETA:   0:03:48"
          ],
          "name": "stderr"
        },
        {
          "output_type": "stream",
          "text": [
            "\n",
            " - ITERATION: 44\n"
          ],
          "name": "stdout"
        },
        {
          "output_type": "stream",
          "text": [
            "\r                                                                               \r\r 28% (42 of 150) |######                 | Elapsed Time: 0:01:34 ETA:   0:03:49"
          ],
          "name": "stderr"
        },
        {
          "output_type": "stream",
          "text": [
            " - Min (X): -1.694942180191482e-32\n"
          ],
          "name": "stdout"
        },
        {
          "output_type": "stream",
          "text": [
            "\r                                                                               \r\r 28% (42 of 150) |######                 | Elapsed Time: 0:01:34 ETA:   0:03:48"
          ],
          "name": "stderr"
        },
        {
          "output_type": "stream",
          "text": [
            " - COST: 397.6146976843993\n"
          ],
          "name": "stdout"
        },
        {
          "output_type": "stream",
          "text": [
            "\r                                                                               \r\r 28% (43 of 150) |######                 | Elapsed Time: 0:01:36 ETA:   0:03:45"
          ],
          "name": "stderr"
        },
        {
          "output_type": "stream",
          "text": [
            "\n",
            " - CONVERGENCE TEST - \n",
            " - CHANGE IN COST: 0.0005001276225364316\n",
            "\n",
            " - ITERATION: 45\n"
          ],
          "name": "stdout"
        },
        {
          "output_type": "stream",
          "text": [
            "\r                                                                               \r\r 28% (43 of 150) |######                 | Elapsed Time: 0:01:36 ETA:   0:03:46"
          ],
          "name": "stderr"
        },
        {
          "output_type": "stream",
          "text": [
            " - Min (X): -3.389884360382963e-33\n"
          ],
          "name": "stdout"
        },
        {
          "output_type": "stream",
          "text": [
            "\r                                                                               \r\r 28% (43 of 150) |######                 | Elapsed Time: 0:01:37 ETA:   0:03:46"
          ],
          "name": "stderr"
        },
        {
          "output_type": "stream",
          "text": [
            " - COST: 397.5587813251062\n"
          ],
          "name": "stdout"
        },
        {
          "output_type": "stream",
          "text": [
            "\r                                                                               \r\r 29% (44 of 150) |######                 | Elapsed Time: 0:01:38 ETA:   0:03:45"
          ],
          "name": "stderr"
        },
        {
          "output_type": "stream",
          "text": [
            "\n",
            " - ITERATION: 46\n"
          ],
          "name": "stdout"
        },
        {
          "output_type": "stream",
          "text": [
            "\r                                                                               \r\r 29% (44 of 150) |######                 | Elapsed Time: 0:01:38 ETA:   0:03:43"
          ],
          "name": "stderr"
        },
        {
          "output_type": "stream",
          "text": [
            " - Min (X): -6.779768720765925e-34\n"
          ],
          "name": "stdout"
        },
        {
          "output_type": "stream",
          "text": [
            "\r                                                                               \r\r 29% (44 of 150) |######                 | Elapsed Time: 0:01:39 ETA:   0:03:43"
          ],
          "name": "stderr"
        },
        {
          "output_type": "stream",
          "text": [
            " - COST: 397.6336275881098\n"
          ],
          "name": "stdout"
        },
        {
          "output_type": "stream",
          "text": [
            "\r                                                                               \r\r 30% (45 of 150) |######                 | Elapsed Time: 0:01:40 ETA:   0:03:43"
          ],
          "name": "stderr"
        },
        {
          "output_type": "stream",
          "text": [
            "\n",
            " - ITERATION: 47\n"
          ],
          "name": "stdout"
        },
        {
          "output_type": "stream",
          "text": [
            "\r                                                                               \r\r 30% (45 of 150) |######                 | Elapsed Time: 0:01:40 ETA:   0:03:42"
          ],
          "name": "stderr"
        },
        {
          "output_type": "stream",
          "text": [
            " - Min (X): -1.3559537441531846e-34\n"
          ],
          "name": "stdout"
        },
        {
          "output_type": "stream",
          "text": [
            "\r                                                                               \r\r 30% (45 of 150) |######                 | Elapsed Time: 0:01:41 ETA:   0:03:42"
          ],
          "name": "stderr"
        },
        {
          "output_type": "stream",
          "text": [
            " - COST: 397.5723240580977\n"
          ],
          "name": "stdout"
        },
        {
          "output_type": "stream",
          "text": [
            "\r                                                                               \r\r 30% (46 of 150) |#######                | Elapsed Time: 0:01:42 ETA:   0:03:40"
          ],
          "name": "stderr"
        },
        {
          "output_type": "stream",
          "text": [
            "\n",
            " - ITERATION: 48\n"
          ],
          "name": "stdout"
        },
        {
          "output_type": "stream",
          "text": [
            "\r                                                                               \r\r 30% (46 of 150) |#######                | Elapsed Time: 0:01:42 ETA:   0:03:42"
          ],
          "name": "stderr"
        },
        {
          "output_type": "stream",
          "text": [
            " - Min (X): -2.7119074883063683e-35\n"
          ],
          "name": "stdout"
        },
        {
          "output_type": "stream",
          "text": [
            "100% (150 of 150) |######################| Elapsed Time: 0:01:43 Time:  0:01:43\n"
          ],
          "name": "stderr"
        },
        {
          "output_type": "stream",
          "text": [
            " - COST: 397.571497071855\n",
            "\n",
            " - CONVERGENCE TEST - \n",
            " - CHANGE IN COST: 6.110565406176274e-05\n",
            "\n",
            " - Converged!\n"
          ],
          "name": "stdout"
        },
        {
          "output_type": "display_data",
          "data": {
            "image/png": "[encoded data removed]",
            "text/plain": [
              "<Figure size 432x288 with 1 Axes>"
            ]
          },
          "metadata": {
            "tags": []
          }
        }
      ]
    },
    {
      "cell_type": "code",
      "metadata": {
        "id": "OynwvVzNtyo6",
        "colab_type": "code",
        "outputId": "9a51feb6-03dc-46c1-d503-8a3b461c7287",
        "colab": {
          "base_uri": "https://localhost:8080/",
          "height": 269
        }
      },
      "source": [
        "plt.plot(lowRank.costHistory, color=\"blue\", label=\"Nuclear Norm\")\n",
        "plt.plot(grad.costHistory, color=\"red\", label=\"Residual\")\n",
        "plt.plot(np.array(grad.costHistory) + np.array(lowRank.costHistory), color=\"Green\", label=\"Total Cost\")\n",
        "plt.legend(loc='upper right')\n",
        "plt.savefig(\"Plot.png\")\n",
        "plt.show()"
      ],
      "execution_count": 0,
      "outputs": [
        {
          "output_type": "display_data",
          "data": {
            "image/png": "[encoded data removed]",
            "text/plain": [
              "<Figure size 432x288 with 1 Axes>"
            ]
          },
          "metadata": {
            "tags": []
          }
        }
      ]
    },
    {
      "cell_type": "code",
      "metadata": {
        "id": "4jacdglBi7H-",
        "colab_type": "code",
        "outputId": "8b154942-eb76-4775-94ea-10b6df37911b",
        "colab": {
          "base_uri": "https://localhost:8080/",
          "height": 269
        }
      },
      "source": [
        "import matplotlib.pyplot as plt\n",
        "\n",
        "plt.figure()\n",
        "plt.imshow(images[7], cmap='rainbow')\n",
        "plt.colorbar()\n",
        "plt.show()"
      ],
      "execution_count": 0,
      "outputs": [
        {
          "output_type": "display_data",
          "data": {
            "image/png": "[encoded data removed]",
            "text/plain": [
              "<Figure size 432x288 with 2 Axes>"
            ]
          },
          "metadata": {
            "tags": []
          }
        }
      ]
    },
    {
      "cell_type": "code",
      "metadata": {
        "id": "Ce36W20RGK_T",
        "colab_type": "code",
        "outputId": "caac6632-67df-404d-8908-0b191f54c093",
        "colab": {
          "base_uri": "https://localhost:8080/",
          "height": 269
        }
      },
      "source": [
        "plt.figure()\n",
        "plt.imshow(condat.x_final[7], cmap='rainbow')\n",
        "plt.colorbar()\n",
        "plt.show()"
      ],
      "execution_count": 0,
      "outputs": [
        {
          "output_type": "display_data",
          "data": {
            "image/png": "[encoded data removed]",
            "text/plain": [
              "<Figure size 432x288 with 2 Axes>"
            ]
          },
          "metadata": {
            "tags": []
          }
        }
      ]
    }
  ]
}